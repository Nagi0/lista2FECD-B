{
 "cells": [
  {
   "cell_type": "code",
   "execution_count": null,
   "metadata": {},
   "outputs": [],
   "source": [
    "import os\n",
    "import kagglehub\n",
    "from dotenv import load_dotenv\n",
    "import numpy as np\n",
    "import pandas as pd\n",
    "import statsmodels.api as sm\n",
    "import matplotlib.pyplot as plt\n",
    "import seaborn as sns; sns.set()\n",
    "\n",
    "load_dotenv(\"./config/.env\")\n",
    "\n",
    "#supress warnings\n",
    "import warnings\n",
    "warnings.filterwarnings(\"ignore\")"
   ]
  },
  {
   "cell_type": "code",
   "execution_count": 3,
   "metadata": {},
   "outputs": [
    {
     "name": "stdout",
     "output_type": "stream",
     "text": [
      "Path to dataset files: C:\\Users\\bruno\\.cache\\kagglehub\\datasets\\maajdl\\yeh-concret-data\\versions\\1\n"
     ]
    }
   ],
   "source": [
    "# Download latest version\n",
    "path = kagglehub.dataset_download(\"maajdl/yeh-concret-data\")\n",
    "\n",
    "print(\"Path to dataset files:\", path)"
   ]
  },
  {
   "cell_type": "code",
   "execution_count": 35,
   "metadata": {},
   "outputs": [
    {
     "data": {
      "application/vnd.microsoft.datawrangler.viewer.v0+json": {
       "columns": [
        {
         "name": "index",
         "rawType": "int64",
         "type": "integer"
        },
        {
         "name": "cement",
         "rawType": "float64",
         "type": "float"
        },
        {
         "name": "slag",
         "rawType": "float64",
         "type": "float"
        },
        {
         "name": "flyash",
         "rawType": "float64",
         "type": "float"
        },
        {
         "name": "water",
         "rawType": "float64",
         "type": "float"
        },
        {
         "name": "superplasticizer",
         "rawType": "float64",
         "type": "float"
        },
        {
         "name": "coarseaggregate",
         "rawType": "float64",
         "type": "float"
        },
        {
         "name": "fineaggregate",
         "rawType": "float64",
         "type": "float"
        },
        {
         "name": "age",
         "rawType": "int64",
         "type": "integer"
        },
        {
         "name": "csMPa",
         "rawType": "float64",
         "type": "float"
        }
       ],
       "conversionMethod": "pd.DataFrame",
       "ref": "79cbd4b0-6124-4a03-bcc1-d44484ddf95a",
       "rows": [
        [
         "0",
         "540.0",
         "0.0",
         "0.0",
         "162.0",
         "2.5",
         "1040.0",
         "676.0",
         "28",
         "79.99"
        ],
        [
         "1",
         "540.0",
         "0.0",
         "0.0",
         "162.0",
         "2.5",
         "1055.0",
         "676.0",
         "28",
         "61.89"
        ],
        [
         "2",
         "332.5",
         "142.5",
         "0.0",
         "228.0",
         "0.0",
         "932.0",
         "594.0",
         "270",
         "40.27"
        ],
        [
         "3",
         "332.5",
         "142.5",
         "0.0",
         "228.0",
         "0.0",
         "932.0",
         "594.0",
         "365",
         "41.05"
        ],
        [
         "4",
         "198.6",
         "132.4",
         "0.0",
         "192.0",
         "0.0",
         "978.4",
         "825.5",
         "360",
         "44.3"
        ],
        [
         "5",
         "266.0",
         "114.0",
         "0.0",
         "228.0",
         "0.0",
         "932.0",
         "670.0",
         "90",
         "47.03"
        ],
        [
         "6",
         "380.0",
         "95.0",
         "0.0",
         "228.0",
         "0.0",
         "932.0",
         "594.0",
         "365",
         "43.7"
        ],
        [
         "7",
         "380.0",
         "95.0",
         "0.0",
         "228.0",
         "0.0",
         "932.0",
         "594.0",
         "28",
         "36.45"
        ],
        [
         "8",
         "266.0",
         "114.0",
         "0.0",
         "228.0",
         "0.0",
         "932.0",
         "670.0",
         "28",
         "45.85"
        ],
        [
         "9",
         "475.0",
         "0.0",
         "0.0",
         "228.0",
         "0.0",
         "932.0",
         "594.0",
         "28",
         "39.29"
        ],
        [
         "10",
         "198.6",
         "132.4",
         "0.0",
         "192.0",
         "0.0",
         "978.4",
         "825.5",
         "90",
         "38.07"
        ],
        [
         "11",
         "198.6",
         "132.4",
         "0.0",
         "192.0",
         "0.0",
         "978.4",
         "825.5",
         "28",
         "28.02"
        ],
        [
         "12",
         "427.5",
         "47.5",
         "0.0",
         "228.0",
         "0.0",
         "932.0",
         "594.0",
         "270",
         "43.01"
        ],
        [
         "13",
         "190.0",
         "190.0",
         "0.0",
         "228.0",
         "0.0",
         "932.0",
         "670.0",
         "90",
         "42.33"
        ],
        [
         "14",
         "304.0",
         "76.0",
         "0.0",
         "228.0",
         "0.0",
         "932.0",
         "670.0",
         "28",
         "47.81"
        ],
        [
         "15",
         "380.0",
         "0.0",
         "0.0",
         "228.0",
         "0.0",
         "932.0",
         "670.0",
         "90",
         "52.91"
        ],
        [
         "16",
         "139.6",
         "209.4",
         "0.0",
         "192.0",
         "0.0",
         "1047.0",
         "806.9",
         "90",
         "39.36"
        ],
        [
         "17",
         "342.0",
         "38.0",
         "0.0",
         "228.0",
         "0.0",
         "932.0",
         "670.0",
         "365",
         "56.14"
        ],
        [
         "18",
         "380.0",
         "95.0",
         "0.0",
         "228.0",
         "0.0",
         "932.0",
         "594.0",
         "90",
         "40.56"
        ],
        [
         "19",
         "475.0",
         "0.0",
         "0.0",
         "228.0",
         "0.0",
         "932.0",
         "594.0",
         "180",
         "42.62"
        ],
        [
         "20",
         "427.5",
         "47.5",
         "0.0",
         "228.0",
         "0.0",
         "932.0",
         "594.0",
         "180",
         "41.84"
        ],
        [
         "21",
         "139.6",
         "209.4",
         "0.0",
         "192.0",
         "0.0",
         "1047.0",
         "806.9",
         "28",
         "28.24"
        ],
        [
         "22",
         "139.6",
         "209.4",
         "0.0",
         "192.0",
         "0.0",
         "1047.0",
         "806.9",
         "3",
         "8.06"
        ],
        [
         "23",
         "139.6",
         "209.4",
         "0.0",
         "192.0",
         "0.0",
         "1047.0",
         "806.9",
         "180",
         "44.21"
        ],
        [
         "24",
         "380.0",
         "0.0",
         "0.0",
         "228.0",
         "0.0",
         "932.0",
         "670.0",
         "365",
         "52.52"
        ],
        [
         "25",
         "380.0",
         "0.0",
         "0.0",
         "228.0",
         "0.0",
         "932.0",
         "670.0",
         "270",
         "53.3"
        ],
        [
         "26",
         "380.0",
         "95.0",
         "0.0",
         "228.0",
         "0.0",
         "932.0",
         "594.0",
         "270",
         "41.15"
        ],
        [
         "27",
         "342.0",
         "38.0",
         "0.0",
         "228.0",
         "0.0",
         "932.0",
         "670.0",
         "180",
         "52.12"
        ],
        [
         "28",
         "427.5",
         "47.5",
         "0.0",
         "228.0",
         "0.0",
         "932.0",
         "594.0",
         "28",
         "37.43"
        ],
        [
         "29",
         "475.0",
         "0.0",
         "0.0",
         "228.0",
         "0.0",
         "932.0",
         "594.0",
         "7",
         "38.6"
        ],
        [
         "30",
         "304.0",
         "76.0",
         "0.0",
         "228.0",
         "0.0",
         "932.0",
         "670.0",
         "365",
         "55.26"
        ],
        [
         "31",
         "266.0",
         "114.0",
         "0.0",
         "228.0",
         "0.0",
         "932.0",
         "670.0",
         "365",
         "52.91"
        ],
        [
         "32",
         "198.6",
         "132.4",
         "0.0",
         "192.0",
         "0.0",
         "978.4",
         "825.5",
         "180",
         "41.72"
        ],
        [
         "33",
         "475.0",
         "0.0",
         "0.0",
         "228.0",
         "0.0",
         "932.0",
         "594.0",
         "270",
         "42.13"
        ],
        [
         "34",
         "190.0",
         "190.0",
         "0.0",
         "228.0",
         "0.0",
         "932.0",
         "670.0",
         "365",
         "53.69"
        ],
        [
         "35",
         "237.5",
         "237.5",
         "0.0",
         "228.0",
         "0.0",
         "932.0",
         "594.0",
         "270",
         "38.41"
        ],
        [
         "36",
         "237.5",
         "237.5",
         "0.0",
         "228.0",
         "0.0",
         "932.0",
         "594.0",
         "28",
         "30.08"
        ],
        [
         "37",
         "332.5",
         "142.5",
         "0.0",
         "228.0",
         "0.0",
         "932.0",
         "594.0",
         "90",
         "37.72"
        ],
        [
         "38",
         "475.0",
         "0.0",
         "0.0",
         "228.0",
         "0.0",
         "932.0",
         "594.0",
         "90",
         "42.23"
        ],
        [
         "39",
         "237.5",
         "237.5",
         "0.0",
         "228.0",
         "0.0",
         "932.0",
         "594.0",
         "180",
         "36.25"
        ],
        [
         "40",
         "342.0",
         "38.0",
         "0.0",
         "228.0",
         "0.0",
         "932.0",
         "670.0",
         "90",
         "50.46"
        ],
        [
         "41",
         "427.5",
         "47.5",
         "0.0",
         "228.0",
         "0.0",
         "932.0",
         "594.0",
         "365",
         "43.7"
        ],
        [
         "42",
         "237.5",
         "237.5",
         "0.0",
         "228.0",
         "0.0",
         "932.0",
         "594.0",
         "365",
         "39.0"
        ],
        [
         "43",
         "380.0",
         "0.0",
         "0.0",
         "228.0",
         "0.0",
         "932.0",
         "670.0",
         "180",
         "53.1"
        ],
        [
         "44",
         "427.5",
         "47.5",
         "0.0",
         "228.0",
         "0.0",
         "932.0",
         "594.0",
         "90",
         "41.54"
        ],
        [
         "45",
         "427.5",
         "47.5",
         "0.0",
         "228.0",
         "0.0",
         "932.0",
         "594.0",
         "7",
         "35.08"
        ],
        [
         "46",
         "349.0",
         "0.0",
         "0.0",
         "192.0",
         "0.0",
         "1047.0",
         "806.9",
         "3",
         "15.05"
        ],
        [
         "47",
         "380.0",
         "95.0",
         "0.0",
         "228.0",
         "0.0",
         "932.0",
         "594.0",
         "180",
         "40.76"
        ],
        [
         "48",
         "237.5",
         "237.5",
         "0.0",
         "228.0",
         "0.0",
         "932.0",
         "594.0",
         "7",
         "26.26"
        ],
        [
         "49",
         "380.0",
         "95.0",
         "0.0",
         "228.0",
         "0.0",
         "932.0",
         "594.0",
         "7",
         "32.82"
        ]
       ],
       "shape": {
        "columns": 9,
        "rows": 1030
       }
      },
      "text/html": [
       "<div>\n",
       "<style scoped>\n",
       "    .dataframe tbody tr th:only-of-type {\n",
       "        vertical-align: middle;\n",
       "    }\n",
       "\n",
       "    .dataframe tbody tr th {\n",
       "        vertical-align: top;\n",
       "    }\n",
       "\n",
       "    .dataframe thead th {\n",
       "        text-align: right;\n",
       "    }\n",
       "</style>\n",
       "<table border=\"1\" class=\"dataframe\">\n",
       "  <thead>\n",
       "    <tr style=\"text-align: right;\">\n",
       "      <th></th>\n",
       "      <th>cement</th>\n",
       "      <th>slag</th>\n",
       "      <th>flyash</th>\n",
       "      <th>water</th>\n",
       "      <th>superplasticizer</th>\n",
       "      <th>coarseaggregate</th>\n",
       "      <th>fineaggregate</th>\n",
       "      <th>age</th>\n",
       "      <th>csMPa</th>\n",
       "    </tr>\n",
       "  </thead>\n",
       "  <tbody>\n",
       "    <tr>\n",
       "      <th>0</th>\n",
       "      <td>540.0</td>\n",
       "      <td>0.0</td>\n",
       "      <td>0.0</td>\n",
       "      <td>162.0</td>\n",
       "      <td>2.5</td>\n",
       "      <td>1040.0</td>\n",
       "      <td>676.0</td>\n",
       "      <td>28</td>\n",
       "      <td>79.99</td>\n",
       "    </tr>\n",
       "    <tr>\n",
       "      <th>1</th>\n",
       "      <td>540.0</td>\n",
       "      <td>0.0</td>\n",
       "      <td>0.0</td>\n",
       "      <td>162.0</td>\n",
       "      <td>2.5</td>\n",
       "      <td>1055.0</td>\n",
       "      <td>676.0</td>\n",
       "      <td>28</td>\n",
       "      <td>61.89</td>\n",
       "    </tr>\n",
       "    <tr>\n",
       "      <th>2</th>\n",
       "      <td>332.5</td>\n",
       "      <td>142.5</td>\n",
       "      <td>0.0</td>\n",
       "      <td>228.0</td>\n",
       "      <td>0.0</td>\n",
       "      <td>932.0</td>\n",
       "      <td>594.0</td>\n",
       "      <td>270</td>\n",
       "      <td>40.27</td>\n",
       "    </tr>\n",
       "    <tr>\n",
       "      <th>3</th>\n",
       "      <td>332.5</td>\n",
       "      <td>142.5</td>\n",
       "      <td>0.0</td>\n",
       "      <td>228.0</td>\n",
       "      <td>0.0</td>\n",
       "      <td>932.0</td>\n",
       "      <td>594.0</td>\n",
       "      <td>365</td>\n",
       "      <td>41.05</td>\n",
       "    </tr>\n",
       "    <tr>\n",
       "      <th>4</th>\n",
       "      <td>198.6</td>\n",
       "      <td>132.4</td>\n",
       "      <td>0.0</td>\n",
       "      <td>192.0</td>\n",
       "      <td>0.0</td>\n",
       "      <td>978.4</td>\n",
       "      <td>825.5</td>\n",
       "      <td>360</td>\n",
       "      <td>44.30</td>\n",
       "    </tr>\n",
       "    <tr>\n",
       "      <th>...</th>\n",
       "      <td>...</td>\n",
       "      <td>...</td>\n",
       "      <td>...</td>\n",
       "      <td>...</td>\n",
       "      <td>...</td>\n",
       "      <td>...</td>\n",
       "      <td>...</td>\n",
       "      <td>...</td>\n",
       "      <td>...</td>\n",
       "    </tr>\n",
       "    <tr>\n",
       "      <th>1025</th>\n",
       "      <td>276.4</td>\n",
       "      <td>116.0</td>\n",
       "      <td>90.3</td>\n",
       "      <td>179.6</td>\n",
       "      <td>8.9</td>\n",
       "      <td>870.1</td>\n",
       "      <td>768.3</td>\n",
       "      <td>28</td>\n",
       "      <td>44.28</td>\n",
       "    </tr>\n",
       "    <tr>\n",
       "      <th>1026</th>\n",
       "      <td>322.2</td>\n",
       "      <td>0.0</td>\n",
       "      <td>115.6</td>\n",
       "      <td>196.0</td>\n",
       "      <td>10.4</td>\n",
       "      <td>817.9</td>\n",
       "      <td>813.4</td>\n",
       "      <td>28</td>\n",
       "      <td>31.18</td>\n",
       "    </tr>\n",
       "    <tr>\n",
       "      <th>1027</th>\n",
       "      <td>148.5</td>\n",
       "      <td>139.4</td>\n",
       "      <td>108.6</td>\n",
       "      <td>192.7</td>\n",
       "      <td>6.1</td>\n",
       "      <td>892.4</td>\n",
       "      <td>780.0</td>\n",
       "      <td>28</td>\n",
       "      <td>23.70</td>\n",
       "    </tr>\n",
       "    <tr>\n",
       "      <th>1028</th>\n",
       "      <td>159.1</td>\n",
       "      <td>186.7</td>\n",
       "      <td>0.0</td>\n",
       "      <td>175.6</td>\n",
       "      <td>11.3</td>\n",
       "      <td>989.6</td>\n",
       "      <td>788.9</td>\n",
       "      <td>28</td>\n",
       "      <td>32.77</td>\n",
       "    </tr>\n",
       "    <tr>\n",
       "      <th>1029</th>\n",
       "      <td>260.9</td>\n",
       "      <td>100.5</td>\n",
       "      <td>78.3</td>\n",
       "      <td>200.6</td>\n",
       "      <td>8.6</td>\n",
       "      <td>864.5</td>\n",
       "      <td>761.5</td>\n",
       "      <td>28</td>\n",
       "      <td>32.40</td>\n",
       "    </tr>\n",
       "  </tbody>\n",
       "</table>\n",
       "<p>1030 rows × 9 columns</p>\n",
       "</div>"
      ],
      "text/plain": [
       "      cement   slag  flyash  water  superplasticizer  coarseaggregate  \\\n",
       "0      540.0    0.0     0.0  162.0               2.5           1040.0   \n",
       "1      540.0    0.0     0.0  162.0               2.5           1055.0   \n",
       "2      332.5  142.5     0.0  228.0               0.0            932.0   \n",
       "3      332.5  142.5     0.0  228.0               0.0            932.0   \n",
       "4      198.6  132.4     0.0  192.0               0.0            978.4   \n",
       "...      ...    ...     ...    ...               ...              ...   \n",
       "1025   276.4  116.0    90.3  179.6               8.9            870.1   \n",
       "1026   322.2    0.0   115.6  196.0              10.4            817.9   \n",
       "1027   148.5  139.4   108.6  192.7               6.1            892.4   \n",
       "1028   159.1  186.7     0.0  175.6              11.3            989.6   \n",
       "1029   260.9  100.5    78.3  200.6               8.6            864.5   \n",
       "\n",
       "      fineaggregate  age  csMPa  \n",
       "0             676.0   28  79.99  \n",
       "1             676.0   28  61.89  \n",
       "2             594.0  270  40.27  \n",
       "3             594.0  365  41.05  \n",
       "4             825.5  360  44.30  \n",
       "...             ...  ...    ...  \n",
       "1025          768.3   28  44.28  \n",
       "1026          813.4   28  31.18  \n",
       "1027          780.0   28  23.70  \n",
       "1028          788.9   28  32.77  \n",
       "1029          761.5   28  32.40  \n",
       "\n",
       "[1030 rows x 9 columns]"
      ]
     },
     "metadata": {},
     "output_type": "display_data"
    },
    {
     "name": "stdout",
     "output_type": "stream",
     "text": [
      "<class 'pandas.core.frame.DataFrame'>\n",
      "RangeIndex: 1030 entries, 0 to 1029\n",
      "Data columns (total 9 columns):\n",
      " #   Column            Non-Null Count  Dtype  \n",
      "---  ------            --------------  -----  \n",
      " 0   cement            1030 non-null   float64\n",
      " 1   slag              1030 non-null   float64\n",
      " 2   flyash            1030 non-null   float64\n",
      " 3   water             1030 non-null   float64\n",
      " 4   superplasticizer  1030 non-null   float64\n",
      " 5   coarseaggregate   1030 non-null   float64\n",
      " 6   fineaggregate     1030 non-null   float64\n",
      " 7   age               1030 non-null   int64  \n",
      " 8   csMPa             1030 non-null   float64\n",
      "dtypes: float64(8), int64(1)\n",
      "memory usage: 72.6 KB\n"
     ]
    },
    {
     "data": {
      "text/plain": [
       "None"
      ]
     },
     "metadata": {},
     "output_type": "display_data"
    },
    {
     "data": {
      "application/vnd.microsoft.datawrangler.viewer.v0+json": {
       "columns": [
        {
         "name": "index",
         "rawType": "object",
         "type": "string"
        },
        {
         "name": "cement",
         "rawType": "float64",
         "type": "float"
        },
        {
         "name": "slag",
         "rawType": "float64",
         "type": "float"
        },
        {
         "name": "flyash",
         "rawType": "float64",
         "type": "float"
        },
        {
         "name": "water",
         "rawType": "float64",
         "type": "float"
        },
        {
         "name": "superplasticizer",
         "rawType": "float64",
         "type": "float"
        },
        {
         "name": "coarseaggregate",
         "rawType": "float64",
         "type": "float"
        },
        {
         "name": "fineaggregate",
         "rawType": "float64",
         "type": "float"
        },
        {
         "name": "age",
         "rawType": "float64",
         "type": "float"
        },
        {
         "name": "csMPa",
         "rawType": "float64",
         "type": "float"
        }
       ],
       "conversionMethod": "pd.DataFrame",
       "ref": "af79b816-d80b-4eaa-a93a-643c7f73ef4b",
       "rows": [
        [
         "count",
         "1030.0",
         "1030.0",
         "1030.0",
         "1030.0",
         "1030.0",
         "1030.0",
         "1030.0",
         "1030.0",
         "1030.0"
        ],
        [
         "mean",
         "281.16786407766995",
         "73.89582524271846",
         "54.18834951456311",
         "181.56728155339806",
         "6.204660194174758",
         "972.9189320388349",
         "773.5804854368932",
         "45.662135922330094",
         "35.817961165048544"
        ],
        [
         "std",
         "104.50636449481532",
         "86.27934174810584",
         "63.99700415268765",
         "21.35421856503247",
         "5.97384139248552",
         "77.75395396672077",
         "80.17598014240437",
         "63.16991158103249",
         "16.705741961912512"
        ],
        [
         "min",
         "102.0",
         "0.0",
         "0.0",
         "121.8",
         "0.0",
         "801.0",
         "594.0",
         "1.0",
         "2.33"
        ],
        [
         "25%",
         "192.375",
         "0.0",
         "0.0",
         "164.9",
         "0.0",
         "932.0",
         "730.95",
         "7.0",
         "23.71"
        ],
        [
         "50%",
         "272.9",
         "22.0",
         "0.0",
         "185.0",
         "6.4",
         "968.0",
         "779.5",
         "28.0",
         "34.445"
        ],
        [
         "75%",
         "350.0",
         "142.95",
         "118.3",
         "192.0",
         "10.2",
         "1029.4",
         "824.0",
         "56.0",
         "46.135000000000005"
        ],
        [
         "max",
         "540.0",
         "359.4",
         "200.1",
         "247.0",
         "32.2",
         "1145.0",
         "992.6",
         "365.0",
         "82.6"
        ]
       ],
       "shape": {
        "columns": 9,
        "rows": 8
       }
      },
      "text/html": [
       "<div>\n",
       "<style scoped>\n",
       "    .dataframe tbody tr th:only-of-type {\n",
       "        vertical-align: middle;\n",
       "    }\n",
       "\n",
       "    .dataframe tbody tr th {\n",
       "        vertical-align: top;\n",
       "    }\n",
       "\n",
       "    .dataframe thead th {\n",
       "        text-align: right;\n",
       "    }\n",
       "</style>\n",
       "<table border=\"1\" class=\"dataframe\">\n",
       "  <thead>\n",
       "    <tr style=\"text-align: right;\">\n",
       "      <th></th>\n",
       "      <th>cement</th>\n",
       "      <th>slag</th>\n",
       "      <th>flyash</th>\n",
       "      <th>water</th>\n",
       "      <th>superplasticizer</th>\n",
       "      <th>coarseaggregate</th>\n",
       "      <th>fineaggregate</th>\n",
       "      <th>age</th>\n",
       "      <th>csMPa</th>\n",
       "    </tr>\n",
       "  </thead>\n",
       "  <tbody>\n",
       "    <tr>\n",
       "      <th>count</th>\n",
       "      <td>1030.000000</td>\n",
       "      <td>1030.000000</td>\n",
       "      <td>1030.000000</td>\n",
       "      <td>1030.000000</td>\n",
       "      <td>1030.000000</td>\n",
       "      <td>1030.000000</td>\n",
       "      <td>1030.000000</td>\n",
       "      <td>1030.000000</td>\n",
       "      <td>1030.000000</td>\n",
       "    </tr>\n",
       "    <tr>\n",
       "      <th>mean</th>\n",
       "      <td>281.167864</td>\n",
       "      <td>73.895825</td>\n",
       "      <td>54.188350</td>\n",
       "      <td>181.567282</td>\n",
       "      <td>6.204660</td>\n",
       "      <td>972.918932</td>\n",
       "      <td>773.580485</td>\n",
       "      <td>45.662136</td>\n",
       "      <td>35.817961</td>\n",
       "    </tr>\n",
       "    <tr>\n",
       "      <th>std</th>\n",
       "      <td>104.506364</td>\n",
       "      <td>86.279342</td>\n",
       "      <td>63.997004</td>\n",
       "      <td>21.354219</td>\n",
       "      <td>5.973841</td>\n",
       "      <td>77.753954</td>\n",
       "      <td>80.175980</td>\n",
       "      <td>63.169912</td>\n",
       "      <td>16.705742</td>\n",
       "    </tr>\n",
       "    <tr>\n",
       "      <th>min</th>\n",
       "      <td>102.000000</td>\n",
       "      <td>0.000000</td>\n",
       "      <td>0.000000</td>\n",
       "      <td>121.800000</td>\n",
       "      <td>0.000000</td>\n",
       "      <td>801.000000</td>\n",
       "      <td>594.000000</td>\n",
       "      <td>1.000000</td>\n",
       "      <td>2.330000</td>\n",
       "    </tr>\n",
       "    <tr>\n",
       "      <th>25%</th>\n",
       "      <td>192.375000</td>\n",
       "      <td>0.000000</td>\n",
       "      <td>0.000000</td>\n",
       "      <td>164.900000</td>\n",
       "      <td>0.000000</td>\n",
       "      <td>932.000000</td>\n",
       "      <td>730.950000</td>\n",
       "      <td>7.000000</td>\n",
       "      <td>23.710000</td>\n",
       "    </tr>\n",
       "    <tr>\n",
       "      <th>50%</th>\n",
       "      <td>272.900000</td>\n",
       "      <td>22.000000</td>\n",
       "      <td>0.000000</td>\n",
       "      <td>185.000000</td>\n",
       "      <td>6.400000</td>\n",
       "      <td>968.000000</td>\n",
       "      <td>779.500000</td>\n",
       "      <td>28.000000</td>\n",
       "      <td>34.445000</td>\n",
       "    </tr>\n",
       "    <tr>\n",
       "      <th>75%</th>\n",
       "      <td>350.000000</td>\n",
       "      <td>142.950000</td>\n",
       "      <td>118.300000</td>\n",
       "      <td>192.000000</td>\n",
       "      <td>10.200000</td>\n",
       "      <td>1029.400000</td>\n",
       "      <td>824.000000</td>\n",
       "      <td>56.000000</td>\n",
       "      <td>46.135000</td>\n",
       "    </tr>\n",
       "    <tr>\n",
       "      <th>max</th>\n",
       "      <td>540.000000</td>\n",
       "      <td>359.400000</td>\n",
       "      <td>200.100000</td>\n",
       "      <td>247.000000</td>\n",
       "      <td>32.200000</td>\n",
       "      <td>1145.000000</td>\n",
       "      <td>992.600000</td>\n",
       "      <td>365.000000</td>\n",
       "      <td>82.600000</td>\n",
       "    </tr>\n",
       "  </tbody>\n",
       "</table>\n",
       "</div>"
      ],
      "text/plain": [
       "            cement         slag       flyash        water  superplasticizer  \\\n",
       "count  1030.000000  1030.000000  1030.000000  1030.000000       1030.000000   \n",
       "mean    281.167864    73.895825    54.188350   181.567282          6.204660   \n",
       "std     104.506364    86.279342    63.997004    21.354219          5.973841   \n",
       "min     102.000000     0.000000     0.000000   121.800000          0.000000   \n",
       "25%     192.375000     0.000000     0.000000   164.900000          0.000000   \n",
       "50%     272.900000    22.000000     0.000000   185.000000          6.400000   \n",
       "75%     350.000000   142.950000   118.300000   192.000000         10.200000   \n",
       "max     540.000000   359.400000   200.100000   247.000000         32.200000   \n",
       "\n",
       "       coarseaggregate  fineaggregate          age        csMPa  \n",
       "count      1030.000000    1030.000000  1030.000000  1030.000000  \n",
       "mean        972.918932     773.580485    45.662136    35.817961  \n",
       "std          77.753954      80.175980    63.169912    16.705742  \n",
       "min         801.000000     594.000000     1.000000     2.330000  \n",
       "25%         932.000000     730.950000     7.000000    23.710000  \n",
       "50%         968.000000     779.500000    28.000000    34.445000  \n",
       "75%        1029.400000     824.000000    56.000000    46.135000  \n",
       "max        1145.000000     992.600000   365.000000    82.600000  "
      ]
     },
     "metadata": {},
     "output_type": "display_data"
    }
   ],
   "source": [
    "df = pd.read_csv(f\"{path}/{os.environ[\"FILE_NAME\"]}\")\n",
    "display(df)\n",
    "display(df.info())\n",
    "display(df.describe())"
   ]
  },
  {
   "cell_type": "markdown",
   "metadata": {},
   "source": [
    "# Exercício 1"
   ]
  },
  {
   "cell_type": "code",
   "execution_count": 59,
   "metadata": {},
   "outputs": [],
   "source": [
    "Y = df[[\"csMPa\"]]"
   ]
  },
  {
   "cell_type": "markdown",
   "metadata": {},
   "source": [
    "## Univariate model, with a single feature: Compressive Strength Cement"
   ]
  },
  {
   "cell_type": "code",
   "execution_count": 57,
   "metadata": {},
   "outputs": [
    {
     "name": "stdout",
     "output_type": "stream",
     "text": [
      "                            OLS Regression Results                            \n",
      "==============================================================================\n",
      "Dep. Variable:                  csMPa   R-squared:                       0.248\n",
      "Model:                            OLS   Adj. R-squared:                  0.247\n",
      "Method:                 Least Squares   F-statistic:                     338.7\n",
      "Date:                qui, 24 abr 2025   Prob (F-statistic):           1.32e-65\n",
      "Time:                        22:20:25   Log-Likelihood:                -4214.6\n",
      "No. Observations:                1030   AIC:                             8433.\n",
      "Df Residuals:                    1028   BIC:                             8443.\n",
      "Df Model:                           1                                         \n",
      "Covariance Type:            nonrobust                                         \n",
      "==============================================================================\n",
      "                 coef    std err          t      P>|t|      [0.025      0.975]\n",
      "------------------------------------------------------------------------------\n",
      "const         13.4425      1.297     10.365      0.000      10.898      15.987\n",
      "cement         0.0796      0.004     18.404      0.000       0.071       0.088\n",
      "==============================================================================\n",
      "Omnibus:                       19.696   Durbin-Watson:                   1.012\n",
      "Prob(Omnibus):                  0.000   Jarque-Bera (JB):               17.893\n",
      "Skew:                           0.271   Prob(JB):                     0.000130\n",
      "Kurtosis:                       2.649   Cond. No.                         861.\n",
      "==============================================================================\n",
      "\n",
      "Notes:\n",
      "[1] Standard Errors assume that the covariance matrix of the errors is correctly specified.\n"
     ]
    }
   ],
   "source": [
    "X_univariate = sm.add_constant(df[['cement']])\n",
    "model_uni = sm.OLS(Y, X_univariate).fit()\n",
    "\n",
    "print(model_uni.summary())"
   ]
  },
  {
   "cell_type": "markdown",
   "metadata": {},
   "source": [
    "## Model with a few covariates: e.g., Compressive Strength Cement + Water + Age"
   ]
  },
  {
   "cell_type": "code",
   "execution_count": 58,
   "metadata": {},
   "outputs": [
    {
     "name": "stdout",
     "output_type": "stream",
     "text": [
      "                            OLS Regression Results                            \n",
      "==============================================================================\n",
      "Dep. Variable:                  csMPa   R-squared:                       0.452\n",
      "Model:                            OLS   Adj. R-squared:                  0.450\n",
      "Method:                 Least Squares   F-statistic:                     281.9\n",
      "Date:                qui, 24 abr 2025   Prob (F-statistic):          1.93e-133\n",
      "Time:                        22:20:59   Log-Likelihood:                -4051.6\n",
      "No. Observations:                1030   AIC:                             8111.\n",
      "Df Residuals:                    1026   BIC:                             8131.\n",
      "Df Model:                           3                                         \n",
      "Covariance Type:            nonrobust                                         \n",
      "==============================================================================\n",
      "                 coef    std err          t      P>|t|      [0.025      0.975]\n",
      "------------------------------------------------------------------------------\n",
      "const         63.0964      3.647     17.303      0.000      55.941      70.252\n",
      "cement         0.0697      0.004     18.683      0.000       0.062       0.077\n",
      "water         -0.2843      0.019    -15.017      0.000      -0.322      -0.247\n",
      "age            0.1042      0.006     16.281      0.000       0.092       0.117\n",
      "==============================================================================\n",
      "Omnibus:                        8.584   Durbin-Watson:                   1.076\n",
      "Prob(Omnibus):                  0.014   Jarque-Bera (JB):                8.494\n",
      "Skew:                           0.199   Prob(JB):                       0.0143\n",
      "Kurtosis:                       2.800   Cond. No.                     3.30e+03\n",
      "==============================================================================\n",
      "\n",
      "Notes:\n",
      "[1] Standard Errors assume that the covariance matrix of the errors is correctly specified.\n",
      "[2] The condition number is large, 3.3e+03. This might indicate that there are\n",
      "strong multicollinearity or other numerical problems.\n"
     ]
    }
   ],
   "source": [
    "X_few = sm.add_constant(df[['cement', 'water', 'age']])\n",
    "model_few = sm.OLS(Y, X_few).fit()\n",
    "\n",
    "print(model_few.summary())"
   ]
  },
  {
   "cell_type": "markdown",
   "metadata": {},
   "source": [
    "## Full model: Compressive Strength all variables"
   ]
  },
  {
   "cell_type": "code",
   "execution_count": 60,
   "metadata": {},
   "outputs": [
    {
     "name": "stdout",
     "output_type": "stream",
     "text": [
      "                            OLS Regression Results                            \n",
      "==============================================================================\n",
      "Dep. Variable:                  csMPa   R-squared:                       0.616\n",
      "Model:                            OLS   Adj. R-squared:                  0.613\n",
      "Method:                 Least Squares   F-statistic:                     204.3\n",
      "Date:                qui, 24 abr 2025   Prob (F-statistic):          6.29e-206\n",
      "Time:                        22:21:22   Log-Likelihood:                -3869.0\n",
      "No. Observations:                1030   AIC:                             7756.\n",
      "Df Residuals:                    1021   BIC:                             7800.\n",
      "Df Model:                           8                                         \n",
      "Covariance Type:            nonrobust                                         \n",
      "====================================================================================\n",
      "                       coef    std err          t      P>|t|      [0.025      0.975]\n",
      "------------------------------------------------------------------------------------\n",
      "const              -23.3312     26.586     -0.878      0.380     -75.500      28.837\n",
      "cement               0.1198      0.008     14.113      0.000       0.103       0.136\n",
      "slag                 0.1039      0.010     10.247      0.000       0.084       0.124\n",
      "flyash               0.0879      0.013      6.988      0.000       0.063       0.113\n",
      "water               -0.1499      0.040     -3.731      0.000      -0.229      -0.071\n",
      "superplasticizer     0.2922      0.093      3.128      0.002       0.109       0.476\n",
      "coarseaggregate      0.0181      0.009      1.926      0.054      -0.000       0.037\n",
      "fineaggregate        0.0202      0.011      1.887      0.059      -0.001       0.041\n",
      "age                  0.1142      0.005     21.046      0.000       0.104       0.125\n",
      "==============================================================================\n",
      "Omnibus:                        5.378   Durbin-Watson:                   1.282\n",
      "Prob(Omnibus):                  0.068   Jarque-Bera (JB):                5.304\n",
      "Skew:                          -0.174   Prob(JB):                       0.0705\n",
      "Kurtosis:                       3.045   Cond. No.                     1.06e+05\n",
      "==============================================================================\n",
      "\n",
      "Notes:\n",
      "[1] Standard Errors assume that the covariance matrix of the errors is correctly specified.\n",
      "[2] The condition number is large, 1.06e+05. This might indicate that there are\n",
      "strong multicollinearity or other numerical problems.\n"
     ]
    }
   ],
   "source": [
    "X_full = sm.add_constant(df.drop(columns=['csMPa']))\n",
    "model_full = sm.OLS(Y, X_full).fit()\n",
    "\n",
    "print(model_full.summary())"
   ]
  },
  {
   "cell_type": "markdown",
   "metadata": {},
   "source": [
    "# Exercício 2"
   ]
  },
  {
   "cell_type": "markdown",
   "metadata": {},
   "source": [
    "## Univariate model, with a single feature: Compressive Strength Cement"
   ]
  },
  {
   "cell_type": "code",
   "execution_count": 64,
   "metadata": {},
   "outputs": [
    {
     "data": {
      "image/png": "[encoded data removed]",
      "text/plain": [
       "<Figure size 640x480 with 1 Axes>"
      ]
     },
     "metadata": {},
     "output_type": "display_data"
    },
    {
     "data": {
      "image/png": "[encoded data removed]",
      "text/plain": [
       "<Figure size 640x480 with 1 Axes>"
      ]
     },
     "metadata": {},
     "output_type": "display_data"
    }
   ],
   "source": [
    "num_sim = 1000\n",
    "beta_sims = np.zeros((len(model_uni.params.index), num_sim))\n",
    "\n",
    "for idx, coef in enumerate(model_uni.params.index):\n",
    "    simj = np.random.normal(model_uni.params[coef], (model_uni.conf_int().loc[f\"{coef}\"][1] - model_uni.params[f\"{coef}\"]) / 1.96, size=num_sim)\n",
    "    beta_sims[idx, :] = simj\n",
    "\n",
    "for idx, coef in enumerate(model_uni.params.index):\n",
    "    plt.figure()\n",
    "    plt.hist(beta_sims[idx, :], density=True, color='lightgray', edgecolor='black')\n",
    "    plt.title(f\"{coef}\")\n",
    "\n",
    "    plt.show()"
   ]
  },
  {
   "cell_type": "markdown",
   "metadata": {},
   "source": [
    "## Model with a few covariates: e.g., Compressive Strength Cement + Water + Age"
   ]
  },
  {
   "cell_type": "code",
   "execution_count": 63,
   "metadata": {},
   "outputs": [
    {
     "data": {
      "image/png": "[encoded data removed]",
      "text/plain": [
       "<Figure size 640x480 with 1 Axes>"
      ]
     },
     "metadata": {},
     "output_type": "display_data"
    },
    {
     "data": {
      "image/png": "[encoded data removed]",
      "text/plain": [
       "<Figure size 640x480 with 1 Axes>"
      ]
     },
     "metadata": {},
     "output_type": "display_data"
    },
    {
     "data": {
      "image/png": "[encoded data removed]",
      "text/plain": [
       "<Figure size 640x480 with 1 Axes>"
      ]
     },
     "metadata": {},
     "output_type": "display_data"
    },
    {
     "data": {
      "image/png": "[encoded data removed]",
      "text/plain": [
       "<Figure size 640x480 with 1 Axes>"
      ]
     },
     "metadata": {},
     "output_type": "display_data"
    }
   ],
   "source": [
    "num_sim = 1000\n",
    "beta_sims = np.zeros((len(model_few.params.index), num_sim))\n",
    "\n",
    "for idx, coef in enumerate(model_few.params.index):\n",
    "    simj = np.random.normal(model_few.params[coef], (model_few.conf_int().loc[f\"{coef}\"][1] - model_few.params[f\"{coef}\"]) / 1.96, size=num_sim)\n",
    "    beta_sims[idx, :] = simj\n",
    "\n",
    "for idx, coef in enumerate(model_few.params.index):\n",
    "    plt.figure()\n",
    "    plt.hist(beta_sims[idx, :], density=True, color='lightgray', edgecolor='black')\n",
    "    plt.title(f\"{coef}\")\n",
    "\n",
    "    plt.show()"
   ]
  },
  {
   "cell_type": "markdown",
   "metadata": {},
   "source": [
    "## Full model: Compressive Strength all variables"
   ]
  },
  {
   "cell_type": "code",
   "execution_count": 65,
   "metadata": {},
   "outputs": [
    {
     "data": {
      "image/png": "[encoded data removed]",
      "text/plain": [
       "<Figure size 640x480 with 1 Axes>"
      ]
     },
     "metadata": {},
     "output_type": "display_data"
    },
    {
     "data": {
      "image/png": "[encoded data removed]",
      "text/plain": [
       "<Figure size 640x480 with 1 Axes>"
      ]
     },
     "metadata": {},
     "output_type": "display_data"
    },
    {
     "data": {
      "image/png": "[encoded data removed]",
      "text/plain": [
       "<Figure size 640x480 with 1 Axes>"
      ]
     },
     "metadata": {},
     "output_type": "display_data"
    },
    {
     "data": {
      "image/png": "[encoded data removed]",
      "text/plain": [
       "<Figure size 640x480 with 1 Axes>"
      ]
     },
     "metadata": {},
     "output_type": "display_data"
    },
    {
     "data": {
      "image/png": "[encoded data removed]",
      "text/plain": [
       "<Figure size 640x480 with 1 Axes>"
      ]
     },
     "metadata": {},
     "output_type": "display_data"
    },
    {
     "data": {
      "image/png": "[encoded data removed]",
      "text/plain": [
       "<Figure size 640x480 with 1 Axes>"
      ]
     },
     "metadata": {},
     "output_type": "display_data"
    },
    {
     "data": {
      "image/png": "[encoded data removed]",
      "text/plain": [
       "<Figure size 640x480 with 1 Axes>"
      ]
     },
     "metadata": {},
     "output_type": "display_data"
    },
    {
     "data": {
      "image/png": "[encoded data removed]",
      "text/plain": [
       "<Figure size 640x480 with 1 Axes>"
      ]
     },
     "metadata": {},
     "output_type": "display_data"
    },
    {
     "data": {
      "image/png": "[encoded data removed]",
      "text/plain": [
       "<Figure size 640x480 with 1 Axes>"
      ]
     },
     "metadata": {},
     "output_type": "display_data"
    }
   ],
   "source": [
    "num_sim = 1000\n",
    "beta_sims = np.zeros((len(model_full.params.index), num_sim))\n",
    "\n",
    "for idx, coef in enumerate(model_full.params.index):\n",
    "    simj = np.random.normal(model_full.params[coef], (model_full.conf_int().loc[f\"{coef}\"][1] - model_full.params[f\"{coef}\"]) / 1.96, size=num_sim)\n",
    "    beta_sims[idx, :] = simj\n",
    "\n",
    "for idx, coef in enumerate(model_full.params.index):\n",
    "    plt.figure()\n",
    "    plt.hist(beta_sims[idx, :], density=True, color='lightgray', edgecolor='black')\n",
    "    plt.title(f\"{coef}\")\n",
    "\n",
    "    plt.show()"
   ]
  },
  {
   "cell_type": "markdown",
   "metadata": {},
   "source": [
    "## Comparando coeficientes de `cement` nos três cenários"
   ]
  },
  {
   "cell_type": "code",
   "execution_count": 54,
   "metadata": {},
   "outputs": [
    {
     "data": {
      "application/vnd.microsoft.datawrangler.viewer.v0+json": {
       "columns": [
        {
         "name": "index",
         "rawType": "int64",
         "type": "integer"
        },
        {
         "name": "cement",
         "rawType": "float64",
         "type": "float"
        },
        {
         "name": "slag",
         "rawType": "float64",
         "type": "float"
        },
        {
         "name": "flyash",
         "rawType": "float64",
         "type": "float"
        },
        {
         "name": "water",
         "rawType": "float64",
         "type": "float"
        },
        {
         "name": "superplasticizer",
         "rawType": "float64",
         "type": "float"
        },
        {
         "name": "coarseaggregate",
         "rawType": "float64",
         "type": "float"
        },
        {
         "name": "fineaggregate",
         "rawType": "float64",
         "type": "float"
        },
        {
         "name": "age",
         "rawType": "int64",
         "type": "integer"
        },
        {
         "name": "csMPa",
         "rawType": "float64",
         "type": "float"
        }
       ],
       "conversionMethod": "pd.DataFrame",
       "ref": "17bf0264-4ae9-49c5-9295-20e9c42d0866",
       "rows": [
        [
         "0",
         "540.0",
         "0.0",
         "0.0",
         "162.0",
         "2.5",
         "1040.0",
         "676.0",
         "28",
         "79.99"
        ],
        [
         "1",
         "540.0",
         "0.0",
         "0.0",
         "162.0",
         "2.5",
         "1055.0",
         "676.0",
         "28",
         "61.89"
        ],
        [
         "2",
         "332.5",
         "142.5",
         "0.0",
         "228.0",
         "0.0",
         "932.0",
         "594.0",
         "270",
         "40.27"
        ],
        [
         "3",
         "332.5",
         "142.5",
         "0.0",
         "228.0",
         "0.0",
         "932.0",
         "594.0",
         "365",
         "41.05"
        ],
        [
         "4",
         "198.6",
         "132.4",
         "0.0",
         "192.0",
         "0.0",
         "978.4",
         "825.5",
         "360",
         "44.3"
        ],
        [
         "5",
         "266.0",
         "114.0",
         "0.0",
         "228.0",
         "0.0",
         "932.0",
         "670.0",
         "90",
         "47.03"
        ],
        [
         "6",
         "380.0",
         "95.0",
         "0.0",
         "228.0",
         "0.0",
         "932.0",
         "594.0",
         "365",
         "43.7"
        ],
        [
         "7",
         "380.0",
         "95.0",
         "0.0",
         "228.0",
         "0.0",
         "932.0",
         "594.0",
         "28",
         "36.45"
        ],
        [
         "8",
         "266.0",
         "114.0",
         "0.0",
         "228.0",
         "0.0",
         "932.0",
         "670.0",
         "28",
         "45.85"
        ],
        [
         "9",
         "475.0",
         "0.0",
         "0.0",
         "228.0",
         "0.0",
         "932.0",
         "594.0",
         "28",
         "39.29"
        ],
        [
         "10",
         "198.6",
         "132.4",
         "0.0",
         "192.0",
         "0.0",
         "978.4",
         "825.5",
         "90",
         "38.07"
        ],
        [
         "11",
         "198.6",
         "132.4",
         "0.0",
         "192.0",
         "0.0",
         "978.4",
         "825.5",
         "28",
         "28.02"
        ],
        [
         "12",
         "427.5",
         "47.5",
         "0.0",
         "228.0",
         "0.0",
         "932.0",
         "594.0",
         "270",
         "43.01"
        ],
        [
         "13",
         "190.0",
         "190.0",
         "0.0",
         "228.0",
         "0.0",
         "932.0",
         "670.0",
         "90",
         "42.33"
        ],
        [
         "14",
         "304.0",
         "76.0",
         "0.0",
         "228.0",
         "0.0",
         "932.0",
         "670.0",
         "28",
         "47.81"
        ],
        [
         "15",
         "380.0",
         "0.0",
         "0.0",
         "228.0",
         "0.0",
         "932.0",
         "670.0",
         "90",
         "52.91"
        ],
        [
         "16",
         "139.6",
         "209.4",
         "0.0",
         "192.0",
         "0.0",
         "1047.0",
         "806.9",
         "90",
         "39.36"
        ],
        [
         "17",
         "342.0",
         "38.0",
         "0.0",
         "228.0",
         "0.0",
         "932.0",
         "670.0",
         "365",
         "56.14"
        ],
        [
         "18",
         "380.0",
         "95.0",
         "0.0",
         "228.0",
         "0.0",
         "932.0",
         "594.0",
         "90",
         "40.56"
        ],
        [
         "19",
         "475.0",
         "0.0",
         "0.0",
         "228.0",
         "0.0",
         "932.0",
         "594.0",
         "180",
         "42.62"
        ],
        [
         "20",
         "427.5",
         "47.5",
         "0.0",
         "228.0",
         "0.0",
         "932.0",
         "594.0",
         "180",
         "41.84"
        ],
        [
         "21",
         "139.6",
         "209.4",
         "0.0",
         "192.0",
         "0.0",
         "1047.0",
         "806.9",
         "28",
         "28.24"
        ],
        [
         "22",
         "139.6",
         "209.4",
         "0.0",
         "192.0",
         "0.0",
         "1047.0",
         "806.9",
         "3",
         "8.06"
        ],
        [
         "23",
         "139.6",
         "209.4",
         "0.0",
         "192.0",
         "0.0",
         "1047.0",
         "806.9",
         "180",
         "44.21"
        ],
        [
         "24",
         "380.0",
         "0.0",
         "0.0",
         "228.0",
         "0.0",
         "932.0",
         "670.0",
         "365",
         "52.52"
        ],
        [
         "25",
         "380.0",
         "0.0",
         "0.0",
         "228.0",
         "0.0",
         "932.0",
         "670.0",
         "270",
         "53.3"
        ],
        [
         "26",
         "380.0",
         "95.0",
         "0.0",
         "228.0",
         "0.0",
         "932.0",
         "594.0",
         "270",
         "41.15"
        ],
        [
         "27",
         "342.0",
         "38.0",
         "0.0",
         "228.0",
         "0.0",
         "932.0",
         "670.0",
         "180",
         "52.12"
        ],
        [
         "28",
         "427.5",
         "47.5",
         "0.0",
         "228.0",
         "0.0",
         "932.0",
         "594.0",
         "28",
         "37.43"
        ],
        [
         "29",
         "475.0",
         "0.0",
         "0.0",
         "228.0",
         "0.0",
         "932.0",
         "594.0",
         "7",
         "38.6"
        ],
        [
         "30",
         "304.0",
         "76.0",
         "0.0",
         "228.0",
         "0.0",
         "932.0",
         "670.0",
         "365",
         "55.26"
        ],
        [
         "31",
         "266.0",
         "114.0",
         "0.0",
         "228.0",
         "0.0",
         "932.0",
         "670.0",
         "365",
         "52.91"
        ],
        [
         "32",
         "198.6",
         "132.4",
         "0.0",
         "192.0",
         "0.0",
         "978.4",
         "825.5",
         "180",
         "41.72"
        ],
        [
         "33",
         "475.0",
         "0.0",
         "0.0",
         "228.0",
         "0.0",
         "932.0",
         "594.0",
         "270",
         "42.13"
        ],
        [
         "34",
         "190.0",
         "190.0",
         "0.0",
         "228.0",
         "0.0",
         "932.0",
         "670.0",
         "365",
         "53.69"
        ],
        [
         "35",
         "237.5",
         "237.5",
         "0.0",
         "228.0",
         "0.0",
         "932.0",
         "594.0",
         "270",
         "38.41"
        ],
        [
         "36",
         "237.5",
         "237.5",
         "0.0",
         "228.0",
         "0.0",
         "932.0",
         "594.0",
         "28",
         "30.08"
        ],
        [
         "37",
         "332.5",
         "142.5",
         "0.0",
         "228.0",
         "0.0",
         "932.0",
         "594.0",
         "90",
         "37.72"
        ],
        [
         "38",
         "475.0",
         "0.0",
         "0.0",
         "228.0",
         "0.0",
         "932.0",
         "594.0",
         "90",
         "42.23"
        ],
        [
         "39",
         "237.5",
         "237.5",
         "0.0",
         "228.0",
         "0.0",
         "932.0",
         "594.0",
         "180",
         "36.25"
        ],
        [
         "40",
         "342.0",
         "38.0",
         "0.0",
         "228.0",
         "0.0",
         "932.0",
         "670.0",
         "90",
         "50.46"
        ],
        [
         "41",
         "427.5",
         "47.5",
         "0.0",
         "228.0",
         "0.0",
         "932.0",
         "594.0",
         "365",
         "43.7"
        ],
        [
         "42",
         "237.5",
         "237.5",
         "0.0",
         "228.0",
         "0.0",
         "932.0",
         "594.0",
         "365",
         "39.0"
        ],
        [
         "43",
         "380.0",
         "0.0",
         "0.0",
         "228.0",
         "0.0",
         "932.0",
         "670.0",
         "180",
         "53.1"
        ],
        [
         "44",
         "427.5",
         "47.5",
         "0.0",
         "228.0",
         "0.0",
         "932.0",
         "594.0",
         "90",
         "41.54"
        ],
        [
         "45",
         "427.5",
         "47.5",
         "0.0",
         "228.0",
         "0.0",
         "932.0",
         "594.0",
         "7",
         "35.08"
        ],
        [
         "46",
         "349.0",
         "0.0",
         "0.0",
         "192.0",
         "0.0",
         "1047.0",
         "806.9",
         "3",
         "15.05"
        ],
        [
         "47",
         "380.0",
         "95.0",
         "0.0",
         "228.0",
         "0.0",
         "932.0",
         "594.0",
         "180",
         "40.76"
        ],
        [
         "48",
         "237.5",
         "237.5",
         "0.0",
         "228.0",
         "0.0",
         "932.0",
         "594.0",
         "7",
         "26.26"
        ],
        [
         "49",
         "380.0",
         "95.0",
         "0.0",
         "228.0",
         "0.0",
         "932.0",
         "594.0",
         "7",
         "32.82"
        ]
       ],
       "shape": {
        "columns": 9,
        "rows": 1030
       }
      },
      "text/html": [
       "<div>\n",
       "<style scoped>\n",
       "    .dataframe tbody tr th:only-of-type {\n",
       "        vertical-align: middle;\n",
       "    }\n",
       "\n",
       "    .dataframe tbody tr th {\n",
       "        vertical-align: top;\n",
       "    }\n",
       "\n",
       "    .dataframe thead th {\n",
       "        text-align: right;\n",
       "    }\n",
       "</style>\n",
       "<table border=\"1\" class=\"dataframe\">\n",
       "  <thead>\n",
       "    <tr style=\"text-align: right;\">\n",
       "      <th></th>\n",
       "      <th>cement</th>\n",
       "      <th>slag</th>\n",
       "      <th>flyash</th>\n",
       "      <th>water</th>\n",
       "      <th>superplasticizer</th>\n",
       "      <th>coarseaggregate</th>\n",
       "      <th>fineaggregate</th>\n",
       "      <th>age</th>\n",
       "      <th>csMPa</th>\n",
       "    </tr>\n",
       "  </thead>\n",
       "  <tbody>\n",
       "    <tr>\n",
       "      <th>0</th>\n",
       "      <td>540.0</td>\n",
       "      <td>0.0</td>\n",
       "      <td>0.0</td>\n",
       "      <td>162.0</td>\n",
       "      <td>2.5</td>\n",
       "      <td>1040.0</td>\n",
       "      <td>676.0</td>\n",
       "      <td>28</td>\n",
       "      <td>79.99</td>\n",
       "    </tr>\n",
       "    <tr>\n",
       "      <th>1</th>\n",
       "      <td>540.0</td>\n",
       "      <td>0.0</td>\n",
       "      <td>0.0</td>\n",
       "      <td>162.0</td>\n",
       "      <td>2.5</td>\n",
       "      <td>1055.0</td>\n",
       "      <td>676.0</td>\n",
       "      <td>28</td>\n",
       "      <td>61.89</td>\n",
       "    </tr>\n",
       "    <tr>\n",
       "      <th>2</th>\n",
       "      <td>332.5</td>\n",
       "      <td>142.5</td>\n",
       "      <td>0.0</td>\n",
       "      <td>228.0</td>\n",
       "      <td>0.0</td>\n",
       "      <td>932.0</td>\n",
       "      <td>594.0</td>\n",
       "      <td>270</td>\n",
       "      <td>40.27</td>\n",
       "    </tr>\n",
       "    <tr>\n",
       "      <th>3</th>\n",
       "      <td>332.5</td>\n",
       "      <td>142.5</td>\n",
       "      <td>0.0</td>\n",
       "      <td>228.0</td>\n",
       "      <td>0.0</td>\n",
       "      <td>932.0</td>\n",
       "      <td>594.0</td>\n",
       "      <td>365</td>\n",
       "      <td>41.05</td>\n",
       "    </tr>\n",
       "    <tr>\n",
       "      <th>4</th>\n",
       "      <td>198.6</td>\n",
       "      <td>132.4</td>\n",
       "      <td>0.0</td>\n",
       "      <td>192.0</td>\n",
       "      <td>0.0</td>\n",
       "      <td>978.4</td>\n",
       "      <td>825.5</td>\n",
       "      <td>360</td>\n",
       "      <td>44.30</td>\n",
       "    </tr>\n",
       "    <tr>\n",
       "      <th>...</th>\n",
       "      <td>...</td>\n",
       "      <td>...</td>\n",
       "      <td>...</td>\n",
       "      <td>...</td>\n",
       "      <td>...</td>\n",
       "      <td>...</td>\n",
       "      <td>...</td>\n",
       "      <td>...</td>\n",
       "      <td>...</td>\n",
       "    </tr>\n",
       "    <tr>\n",
       "      <th>1025</th>\n",
       "      <td>276.4</td>\n",
       "      <td>116.0</td>\n",
       "      <td>90.3</td>\n",
       "      <td>179.6</td>\n",
       "      <td>8.9</td>\n",
       "      <td>870.1</td>\n",
       "      <td>768.3</td>\n",
       "      <td>28</td>\n",
       "      <td>44.28</td>\n",
       "    </tr>\n",
       "    <tr>\n",
       "      <th>1026</th>\n",
       "      <td>322.2</td>\n",
       "      <td>0.0</td>\n",
       "      <td>115.6</td>\n",
       "      <td>196.0</td>\n",
       "      <td>10.4</td>\n",
       "      <td>817.9</td>\n",
       "      <td>813.4</td>\n",
       "      <td>28</td>\n",
       "      <td>31.18</td>\n",
       "    </tr>\n",
       "    <tr>\n",
       "      <th>1027</th>\n",
       "      <td>148.5</td>\n",
       "      <td>139.4</td>\n",
       "      <td>108.6</td>\n",
       "      <td>192.7</td>\n",
       "      <td>6.1</td>\n",
       "      <td>892.4</td>\n",
       "      <td>780.0</td>\n",
       "      <td>28</td>\n",
       "      <td>23.70</td>\n",
       "    </tr>\n",
       "    <tr>\n",
       "      <th>1028</th>\n",
       "      <td>159.1</td>\n",
       "      <td>186.7</td>\n",
       "      <td>0.0</td>\n",
       "      <td>175.6</td>\n",
       "      <td>11.3</td>\n",
       "      <td>989.6</td>\n",
       "      <td>788.9</td>\n",
       "      <td>28</td>\n",
       "      <td>32.77</td>\n",
       "    </tr>\n",
       "    <tr>\n",
       "      <th>1029</th>\n",
       "      <td>260.9</td>\n",
       "      <td>100.5</td>\n",
       "      <td>78.3</td>\n",
       "      <td>200.6</td>\n",
       "      <td>8.6</td>\n",
       "      <td>864.5</td>\n",
       "      <td>761.5</td>\n",
       "      <td>28</td>\n",
       "      <td>32.40</td>\n",
       "    </tr>\n",
       "  </tbody>\n",
       "</table>\n",
       "<p>1030 rows × 9 columns</p>\n",
       "</div>"
      ],
      "text/plain": [
       "      cement   slag  flyash  water  superplasticizer  coarseaggregate  \\\n",
       "0      540.0    0.0     0.0  162.0               2.5           1040.0   \n",
       "1      540.0    0.0     0.0  162.0               2.5           1055.0   \n",
       "2      332.5  142.5     0.0  228.0               0.0            932.0   \n",
       "3      332.5  142.5     0.0  228.0               0.0            932.0   \n",
       "4      198.6  132.4     0.0  192.0               0.0            978.4   \n",
       "...      ...    ...     ...    ...               ...              ...   \n",
       "1025   276.4  116.0    90.3  179.6               8.9            870.1   \n",
       "1026   322.2    0.0   115.6  196.0              10.4            817.9   \n",
       "1027   148.5  139.4   108.6  192.7               6.1            892.4   \n",
       "1028   159.1  186.7     0.0  175.6              11.3            989.6   \n",
       "1029   260.9  100.5    78.3  200.6               8.6            864.5   \n",
       "\n",
       "      fineaggregate  age  csMPa  \n",
       "0             676.0   28  79.99  \n",
       "1             676.0   28  61.89  \n",
       "2             594.0  270  40.27  \n",
       "3             594.0  365  41.05  \n",
       "4             825.5  360  44.30  \n",
       "...             ...  ...    ...  \n",
       "1025          768.3   28  44.28  \n",
       "1026          813.4   28  31.18  \n",
       "1027          780.0   28  23.70  \n",
       "1028          788.9   28  32.77  \n",
       "1029          761.5   28  32.40  \n",
       "\n",
       "[1030 rows x 9 columns]"
      ]
     },
     "metadata": {},
     "output_type": "display_data"
    }
   ],
   "source": [
    "display(df)"
   ]
  },
  {
   "cell_type": "code",
   "execution_count": 82,
   "metadata": {},
   "outputs": [
    {
     "data": {
      "image/png": "[encoded data removed]",
      "text/plain": [
       "<Figure size 1000x600 with 1 Axes>"
      ]
     },
     "metadata": {},
     "output_type": "display_data"
    }
   ],
   "source": [
    "def extract_coefs_and_ci(model, name):\n",
    "    coef = model.params['cement']\n",
    "    conf_int = model.conf_int().loc['cement']\n",
    "    return {\n",
    "        'Model': name,\n",
    "        'Coef': coef,\n",
    "        'Lower CI': conf_int[0],\n",
    "        'Upper CI': conf_int[1]\n",
    "    }\n",
    "\n",
    "results = pd.DataFrame([\n",
    "    extract_coefs_and_ci(model_uni, 'Univariate'),\n",
    "    extract_coefs_and_ci(model_few, 'Few Covariates'),\n",
    "    extract_coefs_and_ci(model_full, 'Full Model')\n",
    "])\n",
    "\n",
    "plt.figure(figsize=(10, 6))\n",
    "sns.pointplot(data=results, x='Model', y='Coef', join=False, capsize=0.2)\n",
    "\n",
    "for idx, row in results.iterrows():\n",
    "    plt.plot([idx, idx], [row['Lower CI'], row['Upper CI']], color='black', lw=2)\n",
    "\n",
    "plt.title('Cement Coefficient and Confidence Intervals Across Models')\n",
    "plt.ylabel('Coefficient Estimate')\n",
    "plt.xlabel('Model')\n",
    "plt.grid(True)\n",
    "plt.tight_layout()\n",
    "plt.show()"
   ]
  },
  {
   "cell_type": "code",
   "execution_count": 80,
   "metadata": {},
   "outputs": [
    {
     "data": {
      "image/png": "[encoded data removed]",
      "text/plain": [
       "<Figure size 1200x600 with 1 Axes>"
      ]
     },
     "metadata": {},
     "output_type": "display_data"
    }
   ],
   "source": [
    "num_sim = 1000\n",
    "samples = {\n",
    "    'Univariate': np.random.normal(loc=model_uni.params['cement'],\n",
    "                                   scale=(model_uni.conf_int().loc['cement'][1] - model_uni.params['cement']) / 1.96,\n",
    "                                   size=num_sim),\n",
    "    'Few Covariates': np.random.normal(loc=model_few.params['cement'],\n",
    "                                       scale=(model_few.conf_int().loc['cement'][1] - model_few.params['cement']) / 1.96,\n",
    "                                       size=num_sim),\n",
    "    'Full Model': np.random.normal(loc=model_full.params['cement'],\n",
    "                                   scale=(model_full.conf_int().loc['cement'][1] - model_full.params['cement']) / 1.96,\n",
    "                                   size=num_sim)\n",
    "}\n",
    "\n",
    "plt.figure(figsize=(12, 6))\n",
    "for i, (label, data) in enumerate(samples.items()):\n",
    "    plt.hist(data, bins=30, alpha=0.7, label=label, density=True)\n",
    "\n",
    "plt.title(\"Distribuições dos Coeficientes de 'Cement' com Base nos Intervalos de Confiança (Aproximação Normal)\")\n",
    "plt.xlabel(\"Valor do Coeficiente\")\n",
    "plt.ylabel(\"Densidade\")\n",
    "plt.legend()\n",
    "plt.grid(True)\n",
    "plt.tight_layout()\n",
    "plt.show()\n"
   ]
  },
  {
   "cell_type": "markdown",
   "metadata": {},
   "source": [
    "# Exercício 3"
   ]
  },
  {
   "cell_type": "code",
   "execution_count": 99,
   "metadata": {},
   "outputs": [
    {
     "data": {
      "image/png": "[encoded data removed]",
      "text/plain": [
       "<Figure size 1200x600 with 1 Axes>"
      ]
     },
     "metadata": {},
     "output_type": "display_data"
    }
   ],
   "source": [
    "num_sim = 1000\n",
    "samples = {\n",
    "    'Few Covariates': np.random.normal(loc=model_few.params['cement'],\n",
    "                                       scale=(model_few.conf_int().loc['cement'][1] - model_few.params['cement']) / 1.96,\n",
    "                                       size=num_sim),\n",
    "    'Full Model': np.random.normal(loc=model_full.params['cement'],\n",
    "                                   scale=(model_full.conf_int().loc['cement'][1] - model_full.params['cement']) / 1.96,\n",
    "                                   size=num_sim)\n",
    "}\n",
    "\n",
    "plt.figure(figsize=(12, 6))\n",
    "for i, (label, data) in enumerate(samples.items()):\n",
    "    plt.hist(data, bins=30, alpha=0.7, label=label, density=True)\n",
    "\n",
    "plt.axvline(model_few.params['cement'], color='blue', linestyle='--')\n",
    "plt.axvline(model_full.params['cement'], color='orange', linestyle='--')\n",
    "plt.title(\"Distribuições dos Coeficientes de 'Cement' com Base nos Intervalos de Confiança (Aproximação Normal)\")\n",
    "plt.xlabel(\"Valor do Coeficiente\")\n",
    "plt.ylabel(\"Densidade\")\n",
    "plt.legend()\n",
    "plt.grid(True)\n",
    "plt.tight_layout()\n",
    "plt.show()\n"
   ]
  },
  {
   "cell_type": "code",
   "execution_count": 113,
   "metadata": {},
   "outputs": [
    {
     "name": "stdout",
     "output_type": "stream",
     "text": [
      "Diferença entre os valroes dos coeficientes de 'cement' do modelo com 2 features (model_few: 0.06967805377886765) e com todas features (0.11980433449716206): 0.050126280718294405\n",
      "\n",
      "Desvio-padrão do vetor de resposta do model_few: 11.22431382430501\n",
      "Range do vetor de resposta do model_few:\n",
      "Min: 8.37890016072918\n",
      "Max: 79.66763854217488\n",
      "\n",
      "Desvio-padrão do vetor de resposta do model_full: 13.100138365879374\n",
      "Range do vetor de resposta do model_few:\n",
      "Min: 10.455765926121934\n",
      "Max: 78.99087585940849\n"
     ]
    }
   ],
   "source": [
    "delta_cement = model_full.params['cement'] - model_few.params['cement']\n",
    "print(f\"Diferença entre os valroes dos coeficientes de 'cement' do modelo com 2 features (model_few: {model_few.params['cement']}) e com todas features ({model_full.params['cement']}): {delta_cement}\\n\")\n",
    "\n",
    "y_response_model_few = model_few.predict(X_few)\n",
    "y_response_model_full = model_full.predict(X_full)\n",
    "\n",
    "print(f\"Desvio-padrão do vetor de resposta do model_few: {np.std(y_response_model_few)}\")\n",
    "print(f\"Range do vetor de resposta do model_few:\\nMin: {np.min(y_response_model_few)}\\nMax: {np.max(y_response_model_few)}\\n\")\n",
    "print(f\"Desvio-padrão do vetor de resposta do model_full: {np.std(y_response_model_full)}\")\n",
    "print(f\"Range do vetor de resposta do model_few:\\nMin: {np.min(y_response_model_full)}\\nMax: {np.max(y_response_model_full)}\")"
   ]
  },
  {
   "cell_type": "markdown",
   "metadata": {},
   "source": [
    "# Exercício 4"
   ]
  },
  {
   "cell_type": "code",
   "execution_count": 123,
   "metadata": {},
   "outputs": [
    {
     "name": "stdout",
     "output_type": "stream",
     "text": [
      "                            OLS Regression Results                            \n",
      "==============================================================================\n",
      "Dep. Variable:                      y   R-squared:                       0.904\n",
      "Model:                            OLS   Adj. R-squared:                  0.902\n",
      "Method:                 Least Squares   F-statistic:                     455.3\n",
      "Date:                qui, 24 abr 2025   Prob (F-statistic):           5.02e-50\n",
      "Time:                        23:16:41   Log-Likelihood:                -120.73\n",
      "No. Observations:                 100   AIC:                             247.5\n",
      "Df Residuals:                      97   BIC:                             255.3\n",
      "Df Model:                           2                                         \n",
      "Covariance Type:            nonrobust                                         \n",
      "==============================================================================\n",
      "                 coef    std err          t      P>|t|      [0.025      0.975]\n",
      "------------------------------------------------------------------------------\n",
      "const        167.9388    100.179      1.676      0.097     -30.889     366.767\n",
      "x1           108.6705     66.807      1.627      0.107     -23.923     241.264\n",
      "x2           -49.6674     33.391     -1.487      0.140    -115.939      16.604\n",
      "==============================================================================\n",
      "Omnibus:                        6.066   Durbin-Watson:                   1.752\n",
      "Prob(Omnibus):                  0.048   Jarque-Bera (JB):                5.591\n",
      "Skew:                          -0.464   Prob(JB):                       0.0611\n",
      "Kurtosis:                       3.694   Cond. No.                     6.39e+03\n",
      "==============================================================================\n",
      "\n",
      "Notes:\n",
      "[1] Standard Errors assume that the covariance matrix of the errors is correctly specified.\n",
      "[2] The condition number is large, 6.39e+03. This might indicate that there are\n",
      "strong multicollinearity or other numerical problems.\n"
     ]
    }
   ],
   "source": [
    "size = 100\n",
    "\n",
    "noise = np.random.normal(0, 0.05**2, size=size)\n",
    "x1 = np.random.uniform(0, 1, size=size)\n",
    "x2 = 3 + 2*x1 + noise\n",
    "\n",
    "epsilon = np.random.normal(0, 1, size=size)\n",
    "y = 10 + 3*x1 + 3*x2 + epsilon\n",
    "\n",
    "sim_df = pd.DataFrame({\"x1\": x1, \"x2\": x2})\n",
    "sim_const = sm.add_constant(sim_df)\n",
    "\n",
    "model = sm.OLS(y, sim_const).fit()\n",
    "print(model.summary())"
   ]
  },
  {
   "cell_type": "code",
   "execution_count": 137,
   "metadata": {},
   "outputs": [
    {
     "data": {
      "image/png": "[encoded data removed]",
      "text/plain": [
       "<Figure size 1200x800 with 4 Axes>"
      ]
     },
     "metadata": {},
     "output_type": "display_data"
    }
   ],
   "source": [
    "size = 100\n",
    "num_sim = 300\n",
    "beta_sims = np.zeros((3, num_sim))\n",
    "\n",
    "noise = np.random.normal(0, 0.05**2, size=size)\n",
    "x1 = np.random.uniform(0, 1, size=size)\n",
    "x2 = 3 + 2*x1 + noise\n",
    "sim_df = pd.DataFrame({\"x1\": x1, \"x2\": x2})\n",
    "sim_const = sm.add_constant(sim_df)\n",
    "\n",
    "for idx in range(num_sim):\n",
    "    epsilon = np.random.normal(0, 1, size=size)\n",
    "    y = 10 + 3*x1 + 3*x2 + epsilon\n",
    "    simj = sm.OLS(y, sim_const).fit()\n",
    "    beta_sims[:, idx] = simj.params\n",
    "\n",
    "fig, axs = plt.subplots(2, 2, figsize=(12, 8))\n",
    "\n",
    "# Histograma do beta_0\n",
    "axs[0, 0].hist(beta_sims[0, :], density=True, color='lightgray', edgecolor='black')\n",
    "axs[0, 0].axvline(x=3, color='blue', linewidth=2)\n",
    "axs[0, 0].set_title(\"beta0\")\n",
    "\n",
    "axs[0, 1].hist(beta_sims[1, :], density=True, color='lightgray', edgecolor='black')\n",
    "axs[0, 1].axvline(x=3, color='blue', linewidth=2)\n",
    "axs[0, 1].set_title(\"beta1\")\n",
    "\n",
    "axs[1, 0].scatter(beta_sims[0, :], beta_sims[1, :], alpha=0.5)\n",
    "axs[1, 0].axvline(x=3, color='blue')\n",
    "axs[1, 0].axhline(y=3, color='blue')\n",
    "axs[1, 0].set_xlabel(\"beta0_hat\")\n",
    "axs[1, 0].set_ylabel(\"beta1_hat\")\n",
    "axs[1, 0].set_title(\"Correlação beta0_hat vs beta1_hat\")\n",
    "\n",
    "axs[1, 1].scatter(x1, x2, alpha=0.5)\n",
    "axs[1, 1].set_xlabel(\"x1\")\n",
    "axs[1, 1].set_ylabel(\"x2\")\n",
    "axs[1, 1].set_title(\"Correlação x1 vs x2\")\n",
    "\n",
    "plt.tight_layout()\n",
    "plt.show()"
   ]
  }
 ],
 "metadata": {
  "kernelspec": {
   "display_name": ".venv",
   "language": "python",
   "name": "python3"
  },
  "language_info": {
   "codemirror_mode": {
    "name": "ipython",
    "version": 3
   },
   "file_extension": ".py",
   "mimetype": "text/x-python",
   "name": "python",
   "nbconvert_exporter": "python",
   "pygments_lexer": "ipython3",
   "version": "3.12.4"
  }
 },
 "nbformat": 4,
 "nbformat_minor": 4
}
